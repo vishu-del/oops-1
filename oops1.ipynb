{
 "cells": [
  {
   "cell_type": "code",
   "execution_count": 1,
   "id": "92bb4030-0b01-49e7-82c8-d25e7b64a93a",
   "metadata": {},
   "outputs": [],
   "source": [
    "ans=1\n",
    "class Vehicle:\n",
    "    def __init__(self, name_of_vehicle, max_speed, average_of_vehicle):\n",
    "        self.name_of_vehicle = name_of_vehicle\n",
    "        self.max_speed = max_speed\n",
    "        self.average_of_vehicle = average_of_vehicle\n"
   ]
  },
  {
   "cell_type": "code",
   "execution_count": null,
   "id": "739a2e4f-0fad-4622-b038-9398a9f81ac3",
   "metadata": {},
   "outputs": [],
   "source": [
    "ans=2\n",
    "class Car(Vehicle):\n",
    "    def __init__(self, name_of_vehicle, max_speed, average_of_vehicle):\n",
    "        super().__init__(name_of_vehicle, max_speed, average_of_vehicle)\n",
    "\n",
    "    def seating_capacity(self, capacity):\n",
    "        return f\"{self.name_of_vehicle} has a seating capacity of {capacity} people.\"\n",
    "\n"
   ]
  },
  {
   "cell_type": "code",
   "execution_count": null,
   "id": "18e95c11-262b-407d-86ac-e6c7f1c83f98",
   "metadata": {},
   "outputs": [],
   "source": [
    "ans=3\n",
    "class Parent1:\n",
    "    def method1(self):\n",
    "        print(\"Method from Parent1\")\n",
    "\n",
    "class Parent2:\n",
    "    def method2(self):\n",
    "        print(\"Method from Parent2\")\n",
    "\n",
    "class Child(Parent1, Parent2):\n",
    "    def method3(self):\n",
    "        print(\"Method from Child\")\n",
    "\n",
    "\n",
    "child_obj = Child()\n",
    "\n",
    "child_obj.method1()\n",
    "child_obj.method2()\n",
    "child_obj.method3()\n"
   ]
  },
  {
   "cell_type": "code",
   "execution_count": null,
   "id": "07fed502-f07b-4874-856f-fc46108bae39",
   "metadata": {},
   "outputs": [],
   "source": [
    "ans=4\n",
    "class MyClass:\n",
    "    def __init__(self):\n",
    "        self._value = 0\n",
    "\n",
    "    def get_value(self):\n",
    "        return self._value\n",
    "\n",
    "    def set_value(self, new_value):\n",
    "        if new_value >= 0:\n",
    "            self._value = new_value\n",
    "        else:\n",
    "            print(\"Value must be non-negative\")\n",
    "\n",
    "\n",
    "obj = MyClass()\n",
    "\n",
    "print(obj.get_value())  \n",
    "obj.set_value(10)\n",
    "print(obj.get_value())  \n",
    "obj.set_value(-5)       \n",
    "\n"
   ]
  },
  {
   "cell_type": "code",
   "execution_count": null,
   "id": "bf95c0d2-caa4-460d-84de-cddf8aa297bc",
   "metadata": {},
   "outputs": [],
   "source": [
    "ans=5\n",
    "class Parent:\n",
    "    def show(self):\n",
    "        print(\"Parent's show method\")\n",
    "\n",
    "class Child(Parent):\n",
    "    def show(self):\n",
    "        print(\"Child's show method\")\n",
    "\n",
    "parent_obj = Parent()\n",
    "child_obj = Child()\n",
    "\n",
    "parent_obj.show()  \n",
    "child_obj.show()   \n",
    "\n"
   ]
  },
  {
   "cell_type": "code",
   "execution_count": null,
   "id": "c7564c67-46be-4795-bfe7-39edf8334cb6",
   "metadata": {},
   "outputs": [],
   "source": []
  }
 ],
 "metadata": {
  "kernelspec": {
   "display_name": "Python 3 (ipykernel)",
   "language": "python",
   "name": "python3"
  },
  "language_info": {
   "codemirror_mode": {
    "name": "ipython",
    "version": 3
   },
   "file_extension": ".py",
   "mimetype": "text/x-python",
   "name": "python",
   "nbconvert_exporter": "python",
   "pygments_lexer": "ipython3",
   "version": "3.10.8"
  }
 },
 "nbformat": 4,
 "nbformat_minor": 5
}
